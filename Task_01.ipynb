{
 "cells": [
  {
   "cell_type": "code",
   "execution_count": 10,
   "id": "1775785e-ccdd-49fc-b650-b6126e74d32a",
   "metadata": {},
   "outputs": [
    {
     "name": "stdout",
     "output_type": "stream",
     "text": [
      "Ultralytics 8.3.160  Python-3.13.5 torch-2.7.1+cu126 CUDA:0 (NVIDIA GeForce RTX 2050, 4096MiB)\n",
      "\u001b[34m\u001b[1mengine\\trainer: \u001b[0magnostic_nms=False, amp=True, augment=False, auto_augment=randaugment, batch=16, bgr=0.0, box=7.5, cache=False, cfg=None, classes=None, close_mosaic=10, cls=0.5, conf=None, copy_paste=0.0, copy_paste_mode=flip, cos_lr=False, cutmix=0.0, data=C:\\Users\\afnan\\OneDrive - Higher Education Commission\\Documents\\Intern 2025\\Task_01\\SAM2_yolo11\\TumorDetection\\data.yaml, degrees=0.0, deterministic=True, device=0, dfl=1.5, dnn=False, dropout=0.0, dynamic=False, embed=None, epochs=20, erasing=0.4, exist_ok=False, fliplr=0.5, flipud=0.0, format=torchscript, fraction=1.0, freeze=None, half=False, hsv_h=0.015, hsv_s=0.7, hsv_v=0.4, imgsz=640, int8=False, iou=0.7, keras=False, kobj=1.0, line_width=None, lr0=0.01, lrf=0.01, mask_ratio=4, max_det=300, mixup=0.0, mode=train, model=yolo11n.pt, momentum=0.937, mosaic=1.0, multi_scale=False, name=train, nbs=64, nms=False, opset=None, optimize=False, optimizer=auto, overlap_mask=True, patience=100, perspective=0.0, plots=True, pose=12.0, pretrained=True, profile=False, project=None, rect=False, resume=False, retina_masks=False, save=True, save_conf=False, save_crop=False, save_dir=runs\\detect\\train, save_frames=False, save_json=False, save_period=-1, save_txt=False, scale=0.5, seed=0, shear=0.0, show=False, show_boxes=True, show_conf=True, show_labels=True, simplify=True, single_cls=False, source=None, split=val, stream_buffer=False, task=detect, time=None, tracker=botsort.yaml, translate=0.1, val=True, verbose=True, vid_stride=1, visualize=False, warmup_bias_lr=0.1, warmup_epochs=3.0, warmup_momentum=0.8, weight_decay=0.0005, workers=8, workspace=None\n",
      "Overriding model.yaml nc=80 with nc=5\n",
      "\n",
      "                   from  n    params  module                                       arguments                     \n",
      "  0                  -1  1       464  ultralytics.nn.modules.conv.Conv             [3, 16, 3, 2]                 \n",
      "  1                  -1  1      4672  ultralytics.nn.modules.conv.Conv             [16, 32, 3, 2]                \n",
      "  2                  -1  1      6640  ultralytics.nn.modules.block.C3k2            [32, 64, 1, False, 0.25]      \n",
      "  3                  -1  1     36992  ultralytics.nn.modules.conv.Conv             [64, 64, 3, 2]                \n",
      "  4                  -1  1     26080  ultralytics.nn.modules.block.C3k2            [64, 128, 1, False, 0.25]     \n",
      "  5                  -1  1    147712  ultralytics.nn.modules.conv.Conv             [128, 128, 3, 2]              \n",
      "  6                  -1  1     87040  ultralytics.nn.modules.block.C3k2            [128, 128, 1, True]           \n",
      "  7                  -1  1    295424  ultralytics.nn.modules.conv.Conv             [128, 256, 3, 2]              \n",
      "  8                  -1  1    346112  ultralytics.nn.modules.block.C3k2            [256, 256, 1, True]           \n",
      "  9                  -1  1    164608  ultralytics.nn.modules.block.SPPF            [256, 256, 5]                 \n",
      " 10                  -1  1    249728  ultralytics.nn.modules.block.C2PSA           [256, 256, 1]                 \n",
      " 11                  -1  1         0  torch.nn.modules.upsampling.Upsample         [None, 2, 'nearest']          \n",
      " 12             [-1, 6]  1         0  ultralytics.nn.modules.conv.Concat           [1]                           \n",
      " 13                  -1  1    111296  ultralytics.nn.modules.block.C3k2            [384, 128, 1, False]          \n",
      " 14                  -1  1         0  torch.nn.modules.upsampling.Upsample         [None, 2, 'nearest']          \n",
      " 15             [-1, 4]  1         0  ultralytics.nn.modules.conv.Concat           [1]                           \n",
      " 16                  -1  1     32096  ultralytics.nn.modules.block.C3k2            [256, 64, 1, False]           \n",
      " 17                  -1  1     36992  ultralytics.nn.modules.conv.Conv             [64, 64, 3, 2]                \n",
      " 18            [-1, 13]  1         0  ultralytics.nn.modules.conv.Concat           [1]                           \n",
      " 19                  -1  1     86720  ultralytics.nn.modules.block.C3k2            [192, 128, 1, False]          \n",
      " 20                  -1  1    147712  ultralytics.nn.modules.conv.Conv             [128, 128, 3, 2]              \n",
      " 21            [-1, 10]  1         0  ultralytics.nn.modules.conv.Concat           [1]                           \n",
      " 22                  -1  1    378880  ultralytics.nn.modules.block.C3k2            [384, 256, 1, True]           \n",
      " 23        [16, 19, 22]  1    431647  ultralytics.nn.modules.head.Detect           [5, [64, 128, 256]]           \n",
      "YOLO11n summary: 181 layers, 2,590,815 parameters, 2,590,799 gradients, 6.4 GFLOPs\n",
      "\n",
      "Transferred 448/499 items from pretrained weights\n",
      "Freezing layer 'model.23.dfl.conv.weight'\n",
      "\u001b[34m\u001b[1mAMP: \u001b[0mrunning Automatic Mixed Precision (AMP) checks...\n",
      "\u001b[34m\u001b[1mAMP: \u001b[0mchecks passed \n",
      "\u001b[34m\u001b[1mtrain: \u001b[0mFast image access  (ping: 0.60.2 ms, read: 3.91.3 MB/s, size: 34.0 KB)\n"
     ]
    },
    {
     "name": "stderr",
     "output_type": "stream",
     "text": [
      "\u001b[34m\u001b[1mtrain: \u001b[0mScanning C:\\Users\\afnan\\OneDrive - Higher Education Commission\\Documents\\Intern 2025\\Task_01\\SAM2_yolo11\\TumorDe\u001b[0m"
     ]
    },
    {
     "name": "stdout",
     "output_type": "stream",
     "text": [
      "\u001b[34m\u001b[1mtrain: \u001b[0mC:\\Users\\afnan\\OneDrive - Higher Education Commission\\Documents\\Intern 2025\\Task_01\\SAM2_yolo11\\TumorDetection\\train\\images\\no_tumor_914_jpg.rf.6714544aee2bde5213fd2c366dff62aa.jpg: 1 duplicate labels removed\n",
      "WARNING Box and segment counts should be equal, but got len(segments) = 1456, len(boxes) = 1461. To resolve this only boxes will be used and all segments will be removed. To avoid this please supply either a detect or segment dataset, not a detect-segment mixed dataset.\n"
     ]
    },
    {
     "name": "stderr",
     "output_type": "stream",
     "text": [
      "\n"
     ]
    },
    {
     "name": "stdout",
     "output_type": "stream",
     "text": [
      "\u001b[34m\u001b[1mval: \u001b[0mFast image access  (ping: 0.40.1 ms, read: 3.51.7 MB/s, size: 29.4 KB)\n"
     ]
    },
    {
     "name": "stderr",
     "output_type": "stream",
     "text": [
      "\u001b[34m\u001b[1mval: \u001b[0mScanning C:\\Users\\afnan\\OneDrive - Higher Education Commission\\Documents\\Intern 2025\\Task_01\\SAM2_yolo11\\TumorDete\u001b[0m\n"
     ]
    },
    {
     "name": "stdout",
     "output_type": "stream",
     "text": [
      "Plotting labels to runs\\detect\\train\\labels.jpg... \n",
      "\u001b[34m\u001b[1moptimizer:\u001b[0m 'optimizer=auto' found, ignoring 'lr0=0.01' and 'momentum=0.937' and determining best 'optimizer', 'lr0' and 'momentum' automatically... \n",
      "\u001b[34m\u001b[1moptimizer:\u001b[0m AdamW(lr=0.001111, momentum=0.9) with parameter groups 81 weight(decay=0.0), 88 weight(decay=0.0005), 87 bias(decay=0.0)\n",
      "Image sizes 640 train, 640 val\n",
      "Using 8 dataloader workers\n",
      "Logging results to \u001b[1mruns\\detect\\train\u001b[0m\n",
      "Starting training for 20 epochs...\n",
      "\n",
      "      Epoch    GPU_mem   box_loss   cls_loss   dfl_loss  Instances       Size\n"
     ]
    },
    {
     "name": "stderr",
     "output_type": "stream",
     "text": [
      "       1/20      2.21G     0.9536      3.073      1.291         21        640: 100%|██████████| 86/86 [00:52<00:00,  1.\n",
      "                 Class     Images  Instances      Box(P          R      mAP50  mAP50-95): 100%|██████████| 13/13 [00:11"
     ]
    },
    {
     "name": "stdout",
     "output_type": "stream",
     "text": [
      "                   all        395        415      0.911      0.253      0.423      0.303\n"
     ]
    },
    {
     "name": "stderr",
     "output_type": "stream",
     "text": [
      "\n"
     ]
    },
    {
     "name": "stdout",
     "output_type": "stream",
     "text": [
      "\n",
      "      Epoch    GPU_mem   box_loss   cls_loss   dfl_loss  Instances       Size\n"
     ]
    },
    {
     "name": "stderr",
     "output_type": "stream",
     "text": [
      "       2/20      2.19G     0.9243      1.944      1.273         18        640: 100%|██████████| 86/86 [00:47<00:00,  1.\n",
      "                 Class     Images  Instances      Box(P          R      mAP50  mAP50-95): 100%|██████████| 13/13 [00:10\n"
     ]
    },
    {
     "name": "stdout",
     "output_type": "stream",
     "text": [
      "                   all        395        415      0.854       0.31       0.39      0.273\n",
      "\n",
      "      Epoch    GPU_mem   box_loss   cls_loss   dfl_loss  Instances       Size\n"
     ]
    },
    {
     "name": "stderr",
     "output_type": "stream",
     "text": [
      "       3/20      2.19G     0.9219      1.684      1.258         19        640: 100%|██████████| 86/86 [00:48<00:00,  1.\n",
      "                 Class     Images  Instances      Box(P          R      mAP50  mAP50-95): 100%|██████████| 13/13 [00:11\n"
     ]
    },
    {
     "name": "stdout",
     "output_type": "stream",
     "text": [
      "                   all        395        415      0.831      0.436      0.477      0.345\n",
      "\n",
      "      Epoch    GPU_mem   box_loss   cls_loss   dfl_loss  Instances       Size\n"
     ]
    },
    {
     "name": "stderr",
     "output_type": "stream",
     "text": [
      "       4/20       2.2G      0.941      1.484      1.279         16        640: 100%|██████████| 86/86 [00:47<00:00,  1.\n",
      "                 Class     Images  Instances      Box(P          R      mAP50  mAP50-95): 100%|██████████| 13/13 [00:10\n"
     ]
    },
    {
     "name": "stdout",
     "output_type": "stream",
     "text": [
      "                   all        395        415      0.632      0.439       0.45       0.33\n",
      "\n",
      "      Epoch    GPU_mem   box_loss   cls_loss   dfl_loss  Instances       Size\n"
     ]
    },
    {
     "name": "stderr",
     "output_type": "stream",
     "text": [
      "       5/20      2.19G     0.8989      1.321      1.254         21        640: 100%|██████████| 86/86 [00:47<00:00,  1.\n",
      "                 Class     Images  Instances      Box(P          R      mAP50  mAP50-95): 100%|██████████| 13/13 [00:10"
     ]
    },
    {
     "name": "stdout",
     "output_type": "stream",
     "text": [
      "                   all        395        415      0.757      0.544      0.545      0.397\n"
     ]
    },
    {
     "name": "stderr",
     "output_type": "stream",
     "text": [
      "\n"
     ]
    },
    {
     "name": "stdout",
     "output_type": "stream",
     "text": [
      "\n",
      "      Epoch    GPU_mem   box_loss   cls_loss   dfl_loss  Instances       Size\n"
     ]
    },
    {
     "name": "stderr",
     "output_type": "stream",
     "text": [
      "       6/20       2.2G     0.8938      1.219      1.253         15        640: 100%|██████████| 86/86 [00:47<00:00,  1.\n",
      "                 Class     Images  Instances      Box(P          R      mAP50  mAP50-95): 100%|██████████| 13/13 [00:10"
     ]
    },
    {
     "name": "stdout",
     "output_type": "stream",
     "text": [
      "                   all        395        415      0.758      0.514      0.541      0.393\n"
     ]
    },
    {
     "name": "stderr",
     "output_type": "stream",
     "text": [
      "\n"
     ]
    },
    {
     "name": "stdout",
     "output_type": "stream",
     "text": [
      "\n",
      "      Epoch    GPU_mem   box_loss   cls_loss   dfl_loss  Instances       Size\n"
     ]
    },
    {
     "name": "stderr",
     "output_type": "stream",
     "text": [
      "       7/20      2.19G     0.8614        1.1       1.24         21        640: 100%|██████████| 86/86 [00:48<00:00,  1.\n",
      "                 Class     Images  Instances      Box(P          R      mAP50  mAP50-95): 100%|██████████| 13/13 [00:10"
     ]
    },
    {
     "name": "stdout",
     "output_type": "stream",
     "text": [
      "                   all        395        415      0.827       0.49      0.569      0.432\n"
     ]
    },
    {
     "name": "stderr",
     "output_type": "stream",
     "text": [
      "\n"
     ]
    },
    {
     "name": "stdout",
     "output_type": "stream",
     "text": [
      "\n",
      "      Epoch    GPU_mem   box_loss   cls_loss   dfl_loss  Instances       Size\n"
     ]
    },
    {
     "name": "stderr",
     "output_type": "stream",
     "text": [
      "       8/20       2.2G     0.8235      1.038      1.198         20        640: 100%|██████████| 86/86 [00:49<00:00,  1.\n",
      "                 Class     Images  Instances      Box(P          R      mAP50  mAP50-95): 100%|██████████| 13/13 [00:11"
     ]
    },
    {
     "name": "stdout",
     "output_type": "stream",
     "text": [
      "                   all        395        415      0.798      0.538      0.572      0.421\n"
     ]
    },
    {
     "name": "stderr",
     "output_type": "stream",
     "text": [
      "\n"
     ]
    },
    {
     "name": "stdout",
     "output_type": "stream",
     "text": [
      "\n",
      "      Epoch    GPU_mem   box_loss   cls_loss   dfl_loss  Instances       Size\n"
     ]
    },
    {
     "name": "stderr",
     "output_type": "stream",
     "text": [
      "       9/20      2.21G     0.8023     0.9642      1.185         17        640: 100%|██████████| 86/86 [00:53<00:00,  1.\n",
      "                 Class     Images  Instances      Box(P          R      mAP50  mAP50-95): 100%|██████████| 13/13 [00:10"
     ]
    },
    {
     "name": "stdout",
     "output_type": "stream",
     "text": [
      "                   all        395        415      0.806      0.524      0.579       0.44\n"
     ]
    },
    {
     "name": "stderr",
     "output_type": "stream",
     "text": [
      "\n"
     ]
    },
    {
     "name": "stdout",
     "output_type": "stream",
     "text": [
      "\n",
      "      Epoch    GPU_mem   box_loss   cls_loss   dfl_loss  Instances       Size\n"
     ]
    },
    {
     "name": "stderr",
     "output_type": "stream",
     "text": [
      "      10/20       2.2G      0.832     0.9498      1.203         22        640: 100%|██████████| 86/86 [00:47<00:00,  1.\n",
      "                 Class     Images  Instances      Box(P          R      mAP50  mAP50-95): 100%|██████████| 13/13 [00:10"
     ]
    },
    {
     "name": "stdout",
     "output_type": "stream",
     "text": [
      "                   all        395        415      0.808      0.595      0.629      0.481\n"
     ]
    },
    {
     "name": "stderr",
     "output_type": "stream",
     "text": [
      "\n"
     ]
    },
    {
     "name": "stdout",
     "output_type": "stream",
     "text": [
      "Closing dataloader mosaic\n",
      "\n",
      "      Epoch    GPU_mem   box_loss   cls_loss   dfl_loss  Instances       Size\n"
     ]
    },
    {
     "name": "stderr",
     "output_type": "stream",
     "text": [
      "      11/20      2.19G     0.7095     0.9358      1.149         10        640: 100%|██████████| 86/86 [00:43<00:00,  2.\n",
      "                 Class     Images  Instances      Box(P          R      mAP50  mAP50-95): 100%|██████████| 13/13 [00:09"
     ]
    },
    {
     "name": "stdout",
     "output_type": "stream",
     "text": [
      "                   all        395        415      0.766      0.568      0.604       0.46\n"
     ]
    },
    {
     "name": "stderr",
     "output_type": "stream",
     "text": [
      "\n"
     ]
    },
    {
     "name": "stdout",
     "output_type": "stream",
     "text": [
      "\n",
      "      Epoch    GPU_mem   box_loss   cls_loss   dfl_loss  Instances       Size\n"
     ]
    },
    {
     "name": "stderr",
     "output_type": "stream",
     "text": [
      "      12/20       2.2G     0.6743     0.8263       1.13         11        640: 100%|██████████| 86/86 [00:43<00:00,  1.\n",
      "                 Class     Images  Instances      Box(P          R      mAP50  mAP50-95): 100%|██████████| 13/13 [00:09"
     ]
    },
    {
     "name": "stdout",
     "output_type": "stream",
     "text": [
      "                   all        395        415      0.816      0.605       0.63      0.496\n"
     ]
    },
    {
     "name": "stderr",
     "output_type": "stream",
     "text": [
      "\n"
     ]
    },
    {
     "name": "stdout",
     "output_type": "stream",
     "text": [
      "\n",
      "      Epoch    GPU_mem   box_loss   cls_loss   dfl_loss  Instances       Size\n"
     ]
    },
    {
     "name": "stderr",
     "output_type": "stream",
     "text": [
      "      13/20      2.19G     0.6729     0.8076      1.131         10        640: 100%|██████████| 86/86 [00:44<00:00,  1.\n",
      "                 Class     Images  Instances      Box(P          R      mAP50  mAP50-95): 100%|██████████| 13/13 [00:09"
     ]
    },
    {
     "name": "stdout",
     "output_type": "stream",
     "text": [
      "                   all        395        415      0.775      0.616      0.594      0.462\n"
     ]
    },
    {
     "name": "stderr",
     "output_type": "stream",
     "text": [
      "\n"
     ]
    },
    {
     "name": "stdout",
     "output_type": "stream",
     "text": [
      "\n",
      "      Epoch    GPU_mem   box_loss   cls_loss   dfl_loss  Instances       Size\n"
     ]
    },
    {
     "name": "stderr",
     "output_type": "stream",
     "text": [
      "      14/20       2.2G     0.6406      0.752      1.091         11        640: 100%|██████████| 86/86 [00:43<00:00,  1.\n",
      "                 Class     Images  Instances      Box(P          R      mAP50  mAP50-95): 100%|██████████| 13/13 [00:10"
     ]
    },
    {
     "name": "stdout",
     "output_type": "stream",
     "text": [
      "                   all        395        415      0.821      0.624      0.641      0.496\n"
     ]
    },
    {
     "name": "stderr",
     "output_type": "stream",
     "text": [
      "\n"
     ]
    },
    {
     "name": "stdout",
     "output_type": "stream",
     "text": [
      "\n",
      "      Epoch    GPU_mem   box_loss   cls_loss   dfl_loss  Instances       Size\n"
     ]
    },
    {
     "name": "stderr",
     "output_type": "stream",
     "text": [
      "      15/20       2.2G     0.6031      0.697      1.063         11        640: 100%|██████████| 86/86 [00:46<00:00,  1.\n",
      "                 Class     Images  Instances      Box(P          R      mAP50  mAP50-95): 100%|██████████| 13/13 [00:10"
     ]
    },
    {
     "name": "stdout",
     "output_type": "stream",
     "text": [
      "                   all        395        415      0.806      0.625      0.644      0.515\n"
     ]
    },
    {
     "name": "stderr",
     "output_type": "stream",
     "text": [
      "\n"
     ]
    },
    {
     "name": "stdout",
     "output_type": "stream",
     "text": [
      "\n",
      "      Epoch    GPU_mem   box_loss   cls_loss   dfl_loss  Instances       Size\n"
     ]
    },
    {
     "name": "stderr",
     "output_type": "stream",
     "text": [
      "      16/20       2.2G      0.596     0.6404      1.069         10        640: 100%|██████████| 86/86 [00:45<00:00,  1.\n",
      "                 Class     Images  Instances      Box(P          R      mAP50  mAP50-95): 100%|██████████| 13/13 [00:09"
     ]
    },
    {
     "name": "stdout",
     "output_type": "stream",
     "text": [
      "                   all        395        415      0.841      0.621      0.646      0.529\n"
     ]
    },
    {
     "name": "stderr",
     "output_type": "stream",
     "text": [
      "\n"
     ]
    },
    {
     "name": "stdout",
     "output_type": "stream",
     "text": [
      "\n",
      "      Epoch    GPU_mem   box_loss   cls_loss   dfl_loss  Instances       Size\n"
     ]
    },
    {
     "name": "stderr",
     "output_type": "stream",
     "text": [
      "      17/20      2.19G     0.5782     0.6117      1.058         12        640: 100%|██████████| 86/86 [00:45<00:00,  1.\n",
      "                 Class     Images  Instances      Box(P          R      mAP50  mAP50-95): 100%|██████████| 13/13 [00:09"
     ]
    },
    {
     "name": "stdout",
     "output_type": "stream",
     "text": [
      "                   all        395        415       0.88      0.608      0.652      0.529\n"
     ]
    },
    {
     "name": "stderr",
     "output_type": "stream",
     "text": [
      "\n"
     ]
    },
    {
     "name": "stdout",
     "output_type": "stream",
     "text": [
      "\n",
      "      Epoch    GPU_mem   box_loss   cls_loss   dfl_loss  Instances       Size\n"
     ]
    },
    {
     "name": "stderr",
     "output_type": "stream",
     "text": [
      "      18/20       2.2G     0.5604     0.5894      1.046         11        640: 100%|██████████| 86/86 [00:44<00:00,  1.\n",
      "                 Class     Images  Instances      Box(P          R      mAP50  mAP50-95): 100%|██████████| 13/13 [00:09"
     ]
    },
    {
     "name": "stdout",
     "output_type": "stream",
     "text": [
      "                   all        395        415      0.862      0.627      0.646      0.523\n"
     ]
    },
    {
     "name": "stderr",
     "output_type": "stream",
     "text": [
      "\n"
     ]
    },
    {
     "name": "stdout",
     "output_type": "stream",
     "text": [
      "\n",
      "      Epoch    GPU_mem   box_loss   cls_loss   dfl_loss  Instances       Size\n"
     ]
    },
    {
     "name": "stderr",
     "output_type": "stream",
     "text": [
      "      19/20      2.19G     0.5314     0.5547      1.021         10        640: 100%|██████████| 86/86 [00:43<00:00,  1.\n",
      "                 Class     Images  Instances      Box(P          R      mAP50  mAP50-95): 100%|██████████| 13/13 [00:10"
     ]
    },
    {
     "name": "stdout",
     "output_type": "stream",
     "text": [
      "                   all        395        415       0.84      0.651      0.664      0.539\n"
     ]
    },
    {
     "name": "stderr",
     "output_type": "stream",
     "text": [
      "\n"
     ]
    },
    {
     "name": "stdout",
     "output_type": "stream",
     "text": [
      "\n",
      "      Epoch    GPU_mem   box_loss   cls_loss   dfl_loss  Instances       Size\n"
     ]
    },
    {
     "name": "stderr",
     "output_type": "stream",
     "text": [
      "      20/20       2.2G     0.5204     0.5444      1.018         10        640: 100%|██████████| 86/86 [00:42<00:00,  2.\n",
      "                 Class     Images  Instances      Box(P          R      mAP50  mAP50-95): 100%|██████████| 13/13 [00:09"
     ]
    },
    {
     "name": "stdout",
     "output_type": "stream",
     "text": [
      "                   all        395        415      0.854      0.626      0.665      0.544\n"
     ]
    },
    {
     "name": "stderr",
     "output_type": "stream",
     "text": [
      "\n"
     ]
    },
    {
     "name": "stdout",
     "output_type": "stream",
     "text": [
      "\n",
      "20 epochs completed in 0.335 hours.\n",
      "Optimizer stripped from runs\\detect\\train\\weights\\last.pt, 5.5MB\n",
      "Optimizer stripped from runs\\detect\\train\\weights\\best.pt, 5.5MB\n",
      "\n",
      "Validating runs\\detect\\train\\weights\\best.pt...\n",
      "Ultralytics 8.3.160  Python-3.13.5 torch-2.7.1+cu126 CUDA:0 (NVIDIA GeForce RTX 2050, 4096MiB)\n",
      "YOLO11n summary (fused): 100 layers, 2,583,127 parameters, 0 gradients, 6.3 GFLOPs\n"
     ]
    },
    {
     "name": "stderr",
     "output_type": "stream",
     "text": [
      "                 Class     Images  Instances      Box(P          R      mAP50  mAP50-95): 100%|██████████| 13/13 [00:11\n"
     ]
    },
    {
     "name": "stdout",
     "output_type": "stream",
     "text": [
      "                   all        395        415      0.855      0.627      0.664      0.545\n",
      "              NO_tumor        115        116      0.949      0.953      0.978      0.782\n",
      "                glioma         30         36      0.691      0.528      0.623      0.468\n",
      "            meningioma        144        148      0.919      0.918      0.946      0.833\n",
      "             pituitary        106        111      0.716      0.739      0.769      0.636\n",
      "space-occupying lesion-          1          4          1          0    0.00544    0.00445\n",
      "Speed: 0.6ms preprocess, 4.4ms inference, 0.0ms loss, 6.9ms postprocess per image\n",
      "Results saved to \u001b[1mruns\\detect\\train\u001b[0m\n"
     ]
    }
   ],
   "source": [
    "from ultralytics import YOLO\n",
    "\n",
    "# load a model\n",
    "model = YOLO(\"yolo11n.pt\")\n",
    "\n",
    "# Train the model\n",
    "train_results = model.train(\n",
    "    data= r\"C:\\Users\\afnan\\OneDrive - Higher Education Commission\\Documents\\Intern 2025\\Task_01\\SAM2_yolo11\\TumorDetection\\data.yaml\", # path to dataset YAML\n",
    "    epochs=20, # number of training epochs\n",
    "    imgsz=640, # training image size\n",
    "    device=0 # device to run on, i.e. device=0 or device=0,1,2,3 or device=0\n",
    ")"
   ]
  },
  {
   "cell_type": "code",
   "execution_count": 11,
   "id": "c7e74e19-daeb-4c75-a8fd-5ebc07cb0e87",
   "metadata": {},
   "outputs": [
    {
     "name": "stdout",
     "output_type": "stream",
     "text": [
      "\n",
      "image 1/1 C:\\Users\\afnan\\OneDrive - Higher Education Commission\\Documents\\Intern 2025\\Task_01\\SAM2_yolo11\\Test_images\\glioma_303_jpg.rf.6410c94058edf9c93866ef5805b93160.jpg: 640x640 4 gliomas, 117.0ms\n",
      "Speed: 10.7ms preprocess, 117.0ms inference, 9.3ms postprocess per image at shape (1, 3, 640, 640)\n",
      "Results saved to \u001b[1mruns\\detect\\predict\u001b[0m\n"
     ]
    }
   ],
   "source": [
    "from ultralytics import YOLO\n",
    "\n",
    "# Load a model\n",
    "model = YOLO( r\"C:\\Users\\afnan\\OneDrive - Higher Education Commission\\Documents\\Intern 2025\\Task_01\\SAM2_yolo11\\runs\\detect\\train\\weights\\best.pt\")\n",
    "\n",
    "# Perform object detection on an image\n",
    "results = model(\"Test_images/glioma_303_jpg.rf.6410c94058edf9c93866ef5805b93160.jpg\", save=True)\n",
    "results[0].show()"
   ]
  },
  {
   "cell_type": "code",
   "execution_count": 12,
   "id": "7eaf1302-85c1-4c9a-88aa-d4b54d707c12",
   "metadata": {},
   "outputs": [
    {
     "name": "stdout",
     "output_type": "stream",
     "text": [
      "\n",
      "image 1/4 C:\\Users\\afnan\\OneDrive - Higher Education Commission\\Documents\\Intern 2025\\Task_01\\SAM2_yolo11\\Test_images\\glioma_20_jpg.rf.8fdf825f9ca269bc07429aee7781e8d9.jpg: 640x640 2 gliomas, 115.3ms\n",
      "image 2/4 C:\\Users\\afnan\\OneDrive - Higher Education Commission\\Documents\\Intern 2025\\Task_01\\SAM2_yolo11\\Test_images\\glioma_271_jpg.rf.6bc0439160ce05a380aa64a2dbac9a3c.jpg: 640x640 1 glioma, 73.4ms\n",
      "image 3/4 C:\\Users\\afnan\\OneDrive - Higher Education Commission\\Documents\\Intern 2025\\Task_01\\SAM2_yolo11\\Test_images\\glioma_303_jpg.rf.6410c94058edf9c93866ef5805b93160.jpg: 640x640 4 gliomas, 53.6ms\n",
      "image 4/4 C:\\Users\\afnan\\OneDrive - Higher Education Commission\\Documents\\Intern 2025\\Task_01\\SAM2_yolo11\\Test_images\\glioma_415_jpg.rf.5205038d338b9add63b4ac6bc7840027.jpg: 640x640 1 glioma, 48.0ms\n",
      "Speed: 9.2ms preprocess, 72.6ms inference, 7.9ms postprocess per image at shape (1, 3, 640, 640)\n",
      "Results saved to \u001b[1mruns\\detect\\predict2\u001b[0m\n"
     ]
    }
   ],
   "source": [
    "# Load a model\n",
    "model = YOLO( r\"C:\\Users\\afnan\\OneDrive - Higher Education Commission\\Documents\\Intern 2025\\Task_01\\SAM2_yolo11\\runs\\detect\\train\\weights\\best.pt\")\n",
    "\n",
    "# Perform object detection on an image\n",
    "results = model(\"Test_images\", save=True)\n",
    "results[0].show()"
   ]
  },
  {
   "cell_type": "code",
   "execution_count": 13,
   "id": "3adf0e9f-108c-4602-a918-8ab653403cf1",
   "metadata": {},
   "outputs": [
    {
     "name": "stdout",
     "output_type": "stream",
     "text": [
      "\n",
      "image 1/1 C:\\Users\\afnan\\OneDrive - Higher Education Commission\\Documents\\Intern 2025\\Task_01\\SAM2_yolo11\\Test_images\\glioma_303_jpg.rf.6410c94058edf9c93866ef5805b93160.jpg: 640x640 4 gliomas, 104.7ms\n",
      "Speed: 10.5ms preprocess, 104.7ms inference, 8.1ms postprocess per image at shape (1, 3, 640, 640)\n",
      "ultralytics.engine.results.Boxes object with attributes:\n",
      "\n",
      "cls: tensor([1., 1., 1., 1.], device='cuda:0')\n",
      "conf: tensor([0.7340, 0.6957, 0.5847, 0.3239], device='cuda:0')\n",
      "data: tensor([[3.8722e+02, 2.4842e+02, 4.3797e+02, 2.8421e+02, 7.3405e-01, 1.0000e+00],\n",
      "        [3.8650e+02, 2.4793e+02, 4.4036e+02, 3.0168e+02, 6.9566e-01, 1.0000e+00],\n",
      "        [4.3150e+02, 4.0968e+02, 4.5782e+02, 4.4726e+02, 5.8470e-01, 1.0000e+00],\n",
      "        [3.8713e+02, 2.4861e+02, 4.2181e+02, 2.7945e+02, 3.2389e-01, 1.0000e+00]], device='cuda:0')\n",
      "id: None\n",
      "is_track: False\n",
      "orig_shape: (640, 640)\n",
      "shape: torch.Size([4, 6])\n",
      "xywh: tensor([[412.5925, 266.3179,  50.7495,  35.7902],\n",
      "        [413.4291, 274.8080,  53.8676,  53.7494],\n",
      "        [444.6629, 428.4709,  26.3207,  37.5730],\n",
      "        [404.4667, 264.0321,  34.6829,  30.8442]], device='cuda:0')\n",
      "xywhn: tensor([[0.6447, 0.4161, 0.0793, 0.0559],\n",
      "        [0.6460, 0.4294, 0.0842, 0.0840],\n",
      "        [0.6948, 0.6695, 0.0411, 0.0587],\n",
      "        [0.6320, 0.4126, 0.0542, 0.0482]], device='cuda:0')\n",
      "xyxy: tensor([[387.2178, 248.4228, 437.9673, 284.2130],\n",
      "        [386.4954, 247.9333, 440.3629, 301.6827],\n",
      "        [431.5026, 409.6844, 457.8233, 447.2574],\n",
      "        [387.1253, 248.6100, 421.8082, 279.4542]], device='cuda:0')\n",
      "xyxyn: tensor([[0.6050, 0.3882, 0.6843, 0.4441],\n",
      "        [0.6039, 0.3874, 0.6881, 0.4714],\n",
      "        [0.6742, 0.6401, 0.7153, 0.6988],\n",
      "        [0.6049, 0.3885, 0.6591, 0.4366]], device='cuda:0')\n"
     ]
    }
   ],
   "source": [
    "from ultralytics import YOLO\n",
    "\n",
    "# Load a model\n",
    "model = YOLO( r\"C:\\Users\\afnan\\OneDrive - Higher Education Commission\\Documents\\Intern 2025\\Task_01\\SAM2_yolo11\\runs\\detect\\train\\weights\\best.pt\") # pretrained YOLO11n model\n",
    "\n",
    "# Run batched inference on a list of images\n",
    "results = model(\"Test_images/glioma_303_jpg.rf.6410c94058edf9c93866ef5805b93160.jpg\")\n",
    "\n",
    "# Process results list\n",
    "for result in results:\n",
    "    boxes = result.boxes # Boxes object for bounding box outputs\n",
    "    print(boxes)"
   ]
  },
  {
   "cell_type": "code",
   "execution_count": 14,
   "id": "3c012feb-0a2d-4427-a06e-1d94a8d28075",
   "metadata": {},
   "outputs": [
    {
     "name": "stdout",
     "output_type": "stream",
     "text": [
      "\n",
      "image 1/1 C:\\Users\\afnan\\OneDrive - Higher Education Commission\\Documents\\Intern 2025\\Task_01\\SAM2_yolo11\\Test_images\\glioma_303_jpg.rf.6410c94058edf9c93866ef5805b93160.jpg: 640x640 4 gliomas, 118.2ms\n",
      "Speed: 10.3ms preprocess, 118.2ms inference, 7.9ms postprocess per image at shape (1, 3, 640, 640)\n",
      "Downloading https://github.com/ultralytics/assets/releases/download/v8.3.0/sam2_b.pt to 'sam2_b.pt'...\n"
     ]
    },
    {
     "name": "stderr",
     "output_type": "stream",
     "text": [
      "100%|███████████████████████████████████████████████████████████████████████████████| 154M/154M [00:33<00:00, 4.82MB/s]\n"
     ]
    },
    {
     "name": "stdout",
     "output_type": "stream",
     "text": [
      "Results saved to \u001b[1mruns\\segment\\predict\u001b[0m\n"
     ]
    }
   ],
   "source": [
    "from ultralytics import YOLO\n",
    "from ultralytics import SAM\n",
    "\n",
    "# Load a YOLO model\n",
    "yolo_model = YOLO( r\"C:\\Users\\afnan\\OneDrive - Higher Education Commission\\Documents\\Intern 2025\\Task_01\\SAM2_yolo11\\runs\\detect\\train\\weights\\best.pt\") #pretrained YOLO model\n",
    "\n",
    "# Run batched inference on a list of images\n",
    "results = yolo_model(\"Test_images/glioma_303_jpg.rf.6410c94058edf9c93866ef5805b93160.jpg\") # return a list of Results objects\n",
    "\n",
    "# Load the SAM model\n",
    "sam_model = SAM(\"sam2_b.pt\")\n",
    "\n",
    "for result in results:\n",
    "    class_ids = result.boxes.cls.int().tolist() #noqa\n",
    "    if len(class_ids):\n",
    "        boxes = result.boxes.xyxy\n",
    "        sam_results = sam_model(result.orig_img, bboxes=boxes, verbose=False, save=True, device='cpu')"
   ]
  }
 ],
 "metadata": {
  "kernelspec": {
   "display_name": "Python 3 (ipykernel)",
   "language": "python",
   "name": "python3"
  },
  "language_info": {
   "codemirror_mode": {
    "name": "ipython",
    "version": 3
   },
   "file_extension": ".py",
   "mimetype": "text/x-python",
   "name": "python",
   "nbconvert_exporter": "python",
   "pygments_lexer": "ipython3",
   "version": "3.13.5"
  }
 },
 "nbformat": 4,
 "nbformat_minor": 5
}
